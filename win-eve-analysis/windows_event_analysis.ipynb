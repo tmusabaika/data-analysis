{
 "cells": [
  {
   "cell_type": "code",
   "execution_count": 85,
   "metadata": {},
   "outputs": [],
   "source": [
    "import pandas as pd\n",
    "import numpy as np\n",
    "import matplotlib.pyplot as plt\n",
    "import seaborn as sb"
   ]
  },
  {
   "cell_type": "markdown",
   "metadata": {},
   "source": [
    "### Importing the csv from the Event Viewer mmc proved to be a challenge. It would return the Level and Date/Time columns merged and I had no way of working with the Level column alone. I deceided to open the csv in excel and save it as xlsx instead and then use the read_excel(). Voila!"
   ]
  },
  {
   "cell_type": "code",
   "execution_count": 86,
   "metadata": {},
   "outputs": [],
   "source": [
    "events = pd.read_excel('win_event_log.xlsx')"
   ]
  },
  {
   "cell_type": "markdown",
   "metadata": {},
   "source": [
    "## Just Checking the Data Set"
   ]
  },
  {
   "cell_type": "code",
   "execution_count": 87,
   "metadata": {
    "scrolled": true
   },
   "outputs": [
    {
     "data": {
      "text/html": [
       "<div>\n",
       "<style scoped>\n",
       "    .dataframe tbody tr th:only-of-type {\n",
       "        vertical-align: middle;\n",
       "    }\n",
       "\n",
       "    .dataframe tbody tr th {\n",
       "        vertical-align: top;\n",
       "    }\n",
       "\n",
       "    .dataframe thead th {\n",
       "        text-align: right;\n",
       "    }\n",
       "</style>\n",
       "<table border=\"1\" class=\"dataframe\">\n",
       "  <thead>\n",
       "    <tr style=\"text-align: right;\">\n",
       "      <th></th>\n",
       "      <th>Level</th>\n",
       "      <th>Date and Time</th>\n",
       "      <th>Source</th>\n",
       "      <th>Event ID</th>\n",
       "      <th>Task Category</th>\n",
       "      <th>Unnamed: 5</th>\n",
       "    </tr>\n",
       "  </thead>\n",
       "  <tbody>\n",
       "    <tr>\n",
       "      <td>0</td>\n",
       "      <td>Information</td>\n",
       "      <td>2020-05-03 10:56:09</td>\n",
       "      <td>ESENT</td>\n",
       "      <td>916.0</td>\n",
       "      <td>General</td>\n",
       "      <td>svchost (27956,G,98) The beta feature EseDiskF...</td>\n",
       "    </tr>\n",
       "    <tr>\n",
       "      <td>1</td>\n",
       "      <td>Information</td>\n",
       "      <td>2020-05-03 10:50:21</td>\n",
       "      <td>HotKeyServiceUWP</td>\n",
       "      <td>0.0</td>\n",
       "      <td>-2</td>\n",
       "      <td>The description for Event ID 0 from source Hot...</td>\n",
       "    </tr>\n",
       "    <tr>\n",
       "      <td>2</td>\n",
       "      <td>Information</td>\n",
       "      <td>2020-05-03 10:50:20</td>\n",
       "      <td>HotKeyServiceUWP</td>\n",
       "      <td>0.0</td>\n",
       "      <td>-2</td>\n",
       "      <td>The description for Event ID 0 from source Hot...</td>\n",
       "    </tr>\n",
       "    <tr>\n",
       "      <td>3</td>\n",
       "      <td>Information</td>\n",
       "      <td>2020-05-03 10:47:46</td>\n",
       "      <td>ESENT</td>\n",
       "      <td>916.0</td>\n",
       "      <td>General</td>\n",
       "      <td>svchost (27272,G,98) The beta feature EseDiskF...</td>\n",
       "    </tr>\n",
       "    <tr>\n",
       "      <td>4</td>\n",
       "      <td>Information</td>\n",
       "      <td>2020-05-03 10:39:09</td>\n",
       "      <td>ESENT</td>\n",
       "      <td>916.0</td>\n",
       "      <td>General</td>\n",
       "      <td>svchost (1560,G,98) The beta feature EseDiskFl...</td>\n",
       "    </tr>\n",
       "  </tbody>\n",
       "</table>\n",
       "</div>"
      ],
      "text/plain": [
       "         Level       Date and Time            Source  Event ID Task Category  \\\n",
       "0  Information 2020-05-03 10:56:09             ESENT     916.0       General   \n",
       "1  Information 2020-05-03 10:50:21  HotKeyServiceUWP       0.0            -2   \n",
       "2  Information 2020-05-03 10:50:20  HotKeyServiceUWP       0.0            -2   \n",
       "3  Information 2020-05-03 10:47:46             ESENT     916.0       General   \n",
       "4  Information 2020-05-03 10:39:09             ESENT     916.0       General   \n",
       "\n",
       "                                          Unnamed: 5  \n",
       "0  svchost (27956,G,98) The beta feature EseDiskF...  \n",
       "1  The description for Event ID 0 from source Hot...  \n",
       "2  The description for Event ID 0 from source Hot...  \n",
       "3  svchost (27272,G,98) The beta feature EseDiskF...  \n",
       "4  svchost (1560,G,98) The beta feature EseDiskFl...  "
      ]
     },
     "execution_count": 87,
     "metadata": {},
     "output_type": "execute_result"
    }
   ],
   "source": [
    "events.head()"
   ]
  },
  {
   "cell_type": "code",
   "execution_count": 88,
   "metadata": {},
   "outputs": [
    {
     "data": {
      "text/html": [
       "<div>\n",
       "<style scoped>\n",
       "    .dataframe tbody tr th:only-of-type {\n",
       "        vertical-align: middle;\n",
       "    }\n",
       "\n",
       "    .dataframe tbody tr th {\n",
       "        vertical-align: top;\n",
       "    }\n",
       "\n",
       "    .dataframe thead th {\n",
       "        text-align: right;\n",
       "    }\n",
       "</style>\n",
       "<table border=\"1\" class=\"dataframe\">\n",
       "  <thead>\n",
       "    <tr style=\"text-align: right;\">\n",
       "      <th></th>\n",
       "      <th>Event ID</th>\n",
       "    </tr>\n",
       "  </thead>\n",
       "  <tbody>\n",
       "    <tr>\n",
       "      <td>count</td>\n",
       "      <td>27666.000000</td>\n",
       "    </tr>\n",
       "    <tr>\n",
       "      <td>mean</td>\n",
       "      <td>1270.406239</td>\n",
       "    </tr>\n",
       "    <tr>\n",
       "      <td>std</td>\n",
       "      <td>2814.320906</td>\n",
       "    </tr>\n",
       "    <tr>\n",
       "      <td>min</td>\n",
       "      <td>0.000000</td>\n",
       "    </tr>\n",
       "    <tr>\n",
       "      <td>25%</td>\n",
       "      <td>3.000000</td>\n",
       "    </tr>\n",
       "    <tr>\n",
       "      <td>50%</td>\n",
       "      <td>916.000000</td>\n",
       "    </tr>\n",
       "    <tr>\n",
       "      <td>75%</td>\n",
       "      <td>1001.000000</td>\n",
       "    </tr>\n",
       "    <tr>\n",
       "      <td>max</td>\n",
       "      <td>26214.000000</td>\n",
       "    </tr>\n",
       "  </tbody>\n",
       "</table>\n",
       "</div>"
      ],
      "text/plain": [
       "           Event ID\n",
       "count  27666.000000\n",
       "mean    1270.406239\n",
       "std     2814.320906\n",
       "min        0.000000\n",
       "25%        3.000000\n",
       "50%      916.000000\n",
       "75%     1001.000000\n",
       "max    26214.000000"
      ]
     },
     "execution_count": 88,
     "metadata": {},
     "output_type": "execute_result"
    }
   ],
   "source": [
    "events.describe()"
   ]
  },
  {
   "cell_type": "markdown",
   "metadata": {},
   "source": [
    "## Plotting the counts of each event level/type"
   ]
  },
  {
   "cell_type": "code",
   "execution_count": 89,
   "metadata": {},
   "outputs": [
    {
     "data": {
      "text/plain": [
       "<matplotlib.axes._subplots.AxesSubplot at 0x1872c179b88>"
      ]
     },
     "execution_count": 89,
     "metadata": {},
     "output_type": "execute_result"
    },
    {
     "data": {
      "image/png": "[encoded data removed]",
      "text/plain": [
       "<Figure size 432x288 with 1 Axes>"
      ]
     },
     "metadata": {
      "needs_background": "light"
     },
     "output_type": "display_data"
    }
   ],
   "source": [
    "el = events['Level'].value_counts()\n",
    "el.plot(kind='bar')"
   ]
  },
  {
   "cell_type": "markdown",
   "metadata": {},
   "source": [
    "## Reformatting the columns"
   ]
  },
  {
   "cell_type": "code",
   "execution_count": 90,
   "metadata": {},
   "outputs": [
    {
     "data": {
      "text/plain": [
       "Index(['Level', 'Date and Time', 'Source', 'Event ID', 'Task Category',\n",
       "       'Unnamed: 5'],\n",
       "      dtype='object')"
      ]
     },
     "execution_count": 90,
     "metadata": {},
     "output_type": "execute_result"
    }
   ],
   "source": [
    "events.columns"
   ]
  },
  {
   "cell_type": "markdown",
   "metadata": {},
   "source": [
    "### Using List comprehension to ease the process of converting columns to lower case"
   ]
  },
  {
   "cell_type": "code",
   "execution_count": 91,
   "metadata": {},
   "outputs": [],
   "source": [
    "events.columns = [col.lower() for col in events] #convert all columns to lovercase"
   ]
  },
  {
   "cell_type": "code",
   "execution_count": 92,
   "metadata": {},
   "outputs": [
    {
     "data": {
      "text/plain": [
       "Index(['level', 'date and time', 'source', 'event id', 'task category',\n",
       "       'unnamed: 5'],\n",
       "      dtype='object')"
      ]
     },
     "execution_count": 92,
     "metadata": {},
     "output_type": "execute_result"
    }
   ],
   "source": [
    "events.columns"
   ]
  },
  {
   "cell_type": "code",
   "execution_count": 22,
   "metadata": {},
   "outputs": [],
   "source": [
    "events.rename(columns={'time stamp':'time_stamp'}, errors='raise', inplace=True)\n",
    "#customise column names"
   ]
  },
  {
   "cell_type": "code",
   "execution_count": 17,
   "metadata": {},
   "outputs": [
    {
     "data": {
      "text/plain": [
       "Index(['level', 'time stamp', 'source', 'event_id', 'task_category',\n",
       "       'description'],\n",
       "      dtype='object')"
      ]
     },
     "execution_count": 17,
     "metadata": {},
     "output_type": "execute_result"
    }
   ],
   "source": [
    "events.columns"
   ]
  },
  {
   "cell_type": "markdown",
   "metadata": {},
   "source": [
    "### I needed to group events by month but the timestamp field was unique for each row. After looking at the format of the time_stamp values I noticed a pattern and decided to slice column to get the first 7 characters which would include only the month and year. The column needed to be converted to string though, because it was in date format."
   ]
  },
  {
   "cell_type": "code",
   "execution_count": 23,
   "metadata": {},
   "outputs": [
    {
     "data": {
      "text/html": [
       "<div>\n",
       "<style scoped>\n",
       "    .dataframe tbody tr th:only-of-type {\n",
       "        vertical-align: middle;\n",
       "    }\n",
       "\n",
       "    .dataframe tbody tr th {\n",
       "        vertical-align: top;\n",
       "    }\n",
       "\n",
       "    .dataframe thead th {\n",
       "        text-align: right;\n",
       "    }\n",
       "</style>\n",
       "<table border=\"1\" class=\"dataframe\">\n",
       "  <thead>\n",
       "    <tr style=\"text-align: right;\">\n",
       "      <th></th>\n",
       "      <th>level</th>\n",
       "      <th>time_stamp</th>\n",
       "      <th>source</th>\n",
       "      <th>event_id</th>\n",
       "      <th>task_category</th>\n",
       "      <th>description</th>\n",
       "    </tr>\n",
       "  </thead>\n",
       "  <tbody>\n",
       "    <tr>\n",
       "      <td>0</td>\n",
       "      <td>Information</td>\n",
       "      <td>2020-05-03 10:56:09</td>\n",
       "      <td>ESENT</td>\n",
       "      <td>916.0</td>\n",
       "      <td>General</td>\n",
       "      <td>svchost (27956,G,98) The beta feature EseDiskF...</td>\n",
       "    </tr>\n",
       "    <tr>\n",
       "      <td>1</td>\n",
       "      <td>Information</td>\n",
       "      <td>2020-05-03 10:50:21</td>\n",
       "      <td>HotKeyServiceUWP</td>\n",
       "      <td>0.0</td>\n",
       "      <td>-2</td>\n",
       "      <td>The description for Event ID 0 from source Hot...</td>\n",
       "    </tr>\n",
       "  </tbody>\n",
       "</table>\n",
       "</div>"
      ],
      "text/plain": [
       "         level          time_stamp            source  event_id task_category  \\\n",
       "0  Information 2020-05-03 10:56:09             ESENT     916.0       General   \n",
       "1  Information 2020-05-03 10:50:21  HotKeyServiceUWP       0.0            -2   \n",
       "\n",
       "                                         description  \n",
       "0  svchost (27956,G,98) The beta feature EseDiskF...  \n",
       "1  The description for Event ID 0 from source Hot...  "
      ]
     },
     "execution_count": 23,
     "metadata": {},
     "output_type": "execute_result"
    }
   ],
   "source": [
    "events.head(2)"
   ]
  },
  {
   "cell_type": "code",
   "execution_count": 33,
   "metadata": {},
   "outputs": [
    {
     "data": {
      "text/html": [
       "<div>\n",
       "<style scoped>\n",
       "    .dataframe tbody tr th:only-of-type {\n",
       "        vertical-align: middle;\n",
       "    }\n",
       "\n",
       "    .dataframe tbody tr th {\n",
       "        vertical-align: top;\n",
       "    }\n",
       "\n",
       "    .dataframe thead th {\n",
       "        text-align: right;\n",
       "    }\n",
       "</style>\n",
       "<table border=\"1\" class=\"dataframe\">\n",
       "  <thead>\n",
       "    <tr style=\"text-align: right;\">\n",
       "      <th></th>\n",
       "      <th>level</th>\n",
       "      <th>time_stamp</th>\n",
       "      <th>source</th>\n",
       "      <th>event_id</th>\n",
       "      <th>task_category</th>\n",
       "      <th>description</th>\n",
       "      <th>month</th>\n",
       "    </tr>\n",
       "  </thead>\n",
       "  <tbody>\n",
       "    <tr>\n",
       "      <td>0</td>\n",
       "      <td>Information</td>\n",
       "      <td>2020-05-03 10:56:09</td>\n",
       "      <td>ESENT</td>\n",
       "      <td>916.0</td>\n",
       "      <td>General</td>\n",
       "      <td>svchost (27956,G,98) The beta feature EseDiskF...</td>\n",
       "      <td>2020-05-03 10:56:09</td>\n",
       "    </tr>\n",
       "    <tr>\n",
       "      <td>1</td>\n",
       "      <td>Information</td>\n",
       "      <td>2020-05-03 10:50:21</td>\n",
       "      <td>HotKeyServiceUWP</td>\n",
       "      <td>0.0</td>\n",
       "      <td>-2</td>\n",
       "      <td>The description for Event ID 0 from source Hot...</td>\n",
       "      <td>2020-05-03 10:50:21</td>\n",
       "    </tr>\n",
       "  </tbody>\n",
       "</table>\n",
       "</div>"
      ],
      "text/plain": [
       "         level          time_stamp            source  event_id task_category  \\\n",
       "0  Information 2020-05-03 10:56:09             ESENT     916.0       General   \n",
       "1  Information 2020-05-03 10:50:21  HotKeyServiceUWP       0.0            -2   \n",
       "\n",
       "                                         description                month  \n",
       "0  svchost (27956,G,98) The beta feature EseDiskF...  2020-05-03 10:56:09  \n",
       "1  The description for Event ID 0 from source Hot...  2020-05-03 10:50:21  "
      ]
     },
     "execution_count": 33,
     "metadata": {},
     "output_type": "execute_result"
    }
   ],
   "source": [
    "events['month'] = events.time_stamp.astype(str)\n",
    "events.head(2)"
   ]
  },
  {
   "cell_type": "code",
   "execution_count": 37,
   "metadata": {},
   "outputs": [],
   "source": [
    "events['month'] = month.str.slice(start=0, stop=7, step=1)"
   ]
  },
  {
   "cell_type": "code",
   "execution_count": 41,
   "metadata": {},
   "outputs": [],
   "source": [
    "em = events['month'].value_counts()"
   ]
  },
  {
   "cell_type": "markdown",
   "metadata": {},
   "source": [
    "## Plot all events by month"
   ]
  },
  {
   "cell_type": "code",
   "execution_count": 45,
   "metadata": {},
   "outputs": [
    {
     "data": {
      "text/plain": [
       "<matplotlib.axes._subplots.AxesSubplot at 0x187297eea88>"
      ]
     },
     "execution_count": 45,
     "metadata": {},
     "output_type": "execute_result"
    },
    {
     "data": {
      "image/png": "[encoded data removed]",
      "text/plain": [
       "<Figure size 432x288 with 1 Axes>"
      ]
     },
     "metadata": {
      "needs_background": "light"
     },
     "output_type": "display_data"
    }
   ],
   "source": [
    "em.sort_index().plot(kind = 'bar') #sort_index() to make sure the x axis is ordered by ascending month"
   ]
  },
  {
   "cell_type": "code",
   "execution_count": 50,
   "metadata": {},
   "outputs": [
    {
     "data": {
      "text/plain": [
       "0        05\n",
       "1        05\n",
       "2        05\n",
       "3        05\n",
       "4        05\n",
       "         ..\n",
       "28959    01\n",
       "28960    01\n",
       "28961    01\n",
       "28962    01\n",
       "28963    01\n",
       "Name: time_stamp, Length: 28964, dtype: object"
      ]
     },
     "execution_count": 50,
     "metadata": {},
     "output_type": "execute_result"
    }
   ],
   "source": [
    "month.str.slice(start=5, stop=7)"
   ]
  },
  {
   "cell_type": "code",
   "execution_count": 72,
   "metadata": {},
   "outputs": [],
   "source": [
    "err = events[(events['level'] == 'Error')]"
   ]
  },
  {
   "cell_type": "markdown",
   "metadata": {},
   "source": [
    "## Plot only error events by month"
   ]
  },
  {
   "cell_type": "code",
   "execution_count": 78,
   "metadata": {},
   "outputs": [
    {
     "data": {
      "text/plain": [
       "<matplotlib.axes._subplots.AxesSubplot at 0x1872b3c7a48>"
      ]
     },
     "execution_count": 78,
     "metadata": {},
     "output_type": "execute_result"
    },
    {
     "data": {
      "image/png": "[encoded data removed]",
      "text/plain": [
       "<Figure size 432x288 with 1 Axes>"
      ]
     },
     "metadata": {
      "needs_background": "light"
     },
     "output_type": "display_data"
    }
   ],
   "source": [
    "err['month'].value_counts().sort_index().plot(kind='bar')"
   ]
  },
  {
   "cell_type": "markdown",
   "metadata": {},
   "source": [
    "## Plot all events by month superimposed"
   ]
  },
  {
   "cell_type": "code",
   "execution_count": 84,
   "metadata": {},
   "outputs": [
    {
     "data": {
      "text/plain": [
       "<matplotlib.axes._subplots.AxesSubplot at 0x187298ceac8>"
      ]
     },
     "execution_count": 84,
     "metadata": {},
     "output_type": "execute_result"
    },
    {
     "data": {
      "image/png": "[encoded data removed]",
      "text/plain": [
       "<Figure size 432x288 with 1 Axes>"
      ]
     },
     "metadata": {
      "needs_background": "light"
     },
     "output_type": "display_data"
    }
   ],
   "source": [
    "events.dropna(inplace=True)\n",
    "sb.countplot(x='month', data=events, hue='level')"
   ]
  },
  {
   "cell_type": "code",
   "execution_count": null,
   "metadata": {},
   "outputs": [],
   "source": []
  }
 ],
 "metadata": {
  "kernelspec": {
   "display_name": "Python 3",
   "language": "python",
   "name": "python3"
  },
  "language_info": {
   "codemirror_mode": {
    "name": "ipython",
    "version": 3
   },
   "file_extension": ".py",
   "mimetype": "text/x-python",
   "name": "python",
   "nbconvert_exporter": "python",
   "pygments_lexer": "ipython3",
   "version": "3.7.4"
  }
 },
 "nbformat": 4,
 "nbformat_minor": 2
}
